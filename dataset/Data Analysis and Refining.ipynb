{
 "cells": [
  {
   "cell_type": "markdown",
   "metadata": {},
   "source": [
    "### Disclaimer : \n",
    "##### Data direcly taken from Marvel.com Character Index which includes \"team\" names and are not technically superhero names. Its hard to manually check and remove them all, so I am ignoring such inconsistencies"
   ]
  },
  {
   "cell_type": "markdown",
   "metadata": {},
   "source": [
    "### Import Names "
   ]
  },
  {
   "cell_type": "code",
   "execution_count": 39,
   "metadata": {},
   "outputs": [],
   "source": [
    "import pandas as pd\n",
    "# Read the CSV file into a pandas data frame (df)\n",
    "heros = pd.read_csv('rawHeroNames.csv', delimiter=',' ,header=None)"
   ]
  },
  {
   "cell_type": "markdown",
   "metadata": {},
   "source": [
    "### Dataset Size"
   ]
  },
  {
   "cell_type": "code",
   "execution_count": 40,
   "metadata": {},
   "outputs": [
    {
     "data": {
      "text/plain": [
       "1491"
      ]
     },
     "execution_count": 40,
     "metadata": {},
     "output_type": "execute_result"
    }
   ],
   "source": [
    "#number of super heros\n",
    "heros.size"
   ]
  },
  {
   "cell_type": "markdown",
   "metadata": {},
   "source": [
    "### Lets have a look at few heros"
   ]
  },
  {
   "cell_type": "code",
   "execution_count": 41,
   "metadata": {},
   "outputs": [
    {
     "data": {
      "text/html": [
       "<div>\n",
       "<style scoped>\n",
       "    .dataframe tbody tr th:only-of-type {\n",
       "        vertical-align: middle;\n",
       "    }\n",
       "\n",
       "    .dataframe tbody tr th {\n",
       "        vertical-align: top;\n",
       "    }\n",
       "\n",
       "    .dataframe thead th {\n",
       "        text-align: right;\n",
       "    }\n",
       "</style>\n",
       "<table border=\"1\" class=\"dataframe\">\n",
       "  <thead>\n",
       "    <tr style=\"text-align: right;\">\n",
       "      <th></th>\n",
       "      <th>0</th>\n",
       "    </tr>\n",
       "  </thead>\n",
       "  <tbody>\n",
       "    <tr>\n",
       "      <th>187</th>\n",
       "      <td>Captain America (LEGO Marvel Super Heroes)</td>\n",
       "    </tr>\n",
       "    <tr>\n",
       "      <th>1187</th>\n",
       "      <td>Spider-Man (Ben Reilly)</td>\n",
       "    </tr>\n",
       "    <tr>\n",
       "      <th>578</th>\n",
       "      <td>Iron Man (Ultimate)</td>\n",
       "    </tr>\n",
       "    <tr>\n",
       "      <th>1119</th>\n",
       "      <td>Shatterstar</td>\n",
       "    </tr>\n",
       "    <tr>\n",
       "      <th>256</th>\n",
       "      <td>Crimson Dynamo</td>\n",
       "    </tr>\n",
       "    <tr>\n",
       "      <th>1331</th>\n",
       "      <td>Titanium Man (Topolov)</td>\n",
       "    </tr>\n",
       "    <tr>\n",
       "      <th>1306</th>\n",
       "      <td>Thing</td>\n",
       "    </tr>\n",
       "    <tr>\n",
       "      <th>323</th>\n",
       "      <td>Doctor Doom</td>\n",
       "    </tr>\n",
       "    <tr>\n",
       "      <th>717</th>\n",
       "      <td>M.O.D.A.M.</td>\n",
       "    </tr>\n",
       "    <tr>\n",
       "      <th>229</th>\n",
       "      <td>Chat</td>\n",
       "    </tr>\n",
       "  </tbody>\n",
       "</table>\n",
       "</div>"
      ],
      "text/plain": [
       "                                               0\n",
       "187   Captain America (LEGO Marvel Super Heroes)\n",
       "1187                     Spider-Man (Ben Reilly)\n",
       "578                          Iron Man (Ultimate)\n",
       "1119                                 Shatterstar\n",
       "256                               Crimson Dynamo\n",
       "1331                      Titanium Man (Topolov)\n",
       "1306                                       Thing\n",
       "323                                  Doctor Doom\n",
       "717                                   M.O.D.A.M.\n",
       "229                                         Chat"
      ]
     },
     "execution_count": 41,
     "metadata": {},
     "output_type": "execute_result"
    }
   ],
   "source": [
    "heros.sample(10)"
   ]
  },
  {
   "cell_type": "markdown",
   "metadata": {},
   "source": [
    "### oops! Gotta get rid of those extra info in brackets and strip trailing spaces that are left"
   ]
  },
  {
   "cell_type": "code",
   "execution_count": 42,
   "metadata": {},
   "outputs": [],
   "source": [
    "heros=heros[0].str.split(\"(\",expand=True)\n",
    "heros=heros[0].str.split(\"/\",expand=True)\n",
    "\n",
    "#strip space XXX\" \"\"(YYY)-->XXX and not XXX\" \"\n",
    "heros=pd.DataFrame(heros[0])\n",
    "heros=heros[0].str.strip()\n",
    "heros=pd.DataFrame(heros)"
   ]
  },
  {
   "cell_type": "code",
   "execution_count": 43,
   "metadata": {},
   "outputs": [
    {
     "data": {
      "text/plain": [
       "800                      MI: 13\n",
       "801                       Micro\n",
       "802                     Microbe\n",
       "803                   Microchip\n",
       "804                    Micromax\n",
       "805                    Midnight\n",
       "806                        Miek\n",
       "807            Mikhail Rasputin\n",
       "808             Millenium Guard\n",
       "809            Millie the Model\n",
       "810                       Mimic\n",
       "811                    Mindworm\n",
       "812                  Miracleman\n",
       "813                Miss America\n",
       "814                 Mister Fear\n",
       "815             Mister Sinister\n",
       "816             Mister Sinister\n",
       "817             Mister Sinister\n",
       "818             Mister Sinister\n",
       "819                Misty Knight\n",
       "820                 Mockingbird\n",
       "821            Moira MacTaggert\n",
       "822            Moira MacTaggert\n",
       "823                        Mojo\n",
       "824                    Mole Man\n",
       "825                Molecule Man\n",
       "826                 Molly Hayes\n",
       "827         Molly Von Richtofen\n",
       "828                  Molten Man\n",
       "829                    Mongoose\n",
       "                 ...           \n",
       "1461              Wrecking Crew\n",
       "1462                       X-23\n",
       "1463                       X-51\n",
       "1464                   X-Babies\n",
       "1465                 X-Cutioner\n",
       "1466                   X-Factor\n",
       "1467    X-Factor Investigations\n",
       "1468                    X-Force\n",
       "1469                      X-Man\n",
       "1470                      X-Men\n",
       "1471                      X-Men\n",
       "1472                      X-Ray\n",
       "1473                   X-Statix\n",
       "1474                     X.S.E.\n",
       "1475                      Xavin\n",
       "1476                       Xorn\n",
       "1477                Yellow Claw\n",
       "1478               Yellowjacket\n",
       "1479             Young Avengers\n",
       "1480                Young X-Men\n",
       "1481                   Zaladane\n",
       "1482                      Zaran\n",
       "1483                      Zarda\n",
       "1484                      Zarek\n",
       "1485                   Zeigeist\n",
       "1486                       Zemo\n",
       "1487                     Zodiak\n",
       "1488                     Zombie\n",
       "1489                      Zuras\n",
       "1490                      Zzzax\n",
       "Name: 0, Length: 691, dtype: object"
      ]
     },
     "execution_count": 43,
     "metadata": {},
     "output_type": "execute_result"
    }
   ],
   "source": [
    "heros[0][800:]"
   ]
  },
  {
   "cell_type": "markdown",
   "metadata": {},
   "source": [
    "### Fixed? Not yet, Unfortunately we have more than 1 actors for each Hero. So, lets remove dups"
   ]
  },
  {
   "cell_type": "code",
   "execution_count": 44,
   "metadata": {},
   "outputs": [
    {
     "name": "stdout",
     "output_type": "stream",
     "text": [
      "before : 1491\n",
      "after : 1251\n"
     ]
    }
   ],
   "source": [
    "print \"before :\" ,heros.size\n",
    "heros = heros.drop_duplicates()\n",
    "print \"after :\" , heros.size"
   ]
  },
  {
   "cell_type": "markdown",
   "metadata": {},
   "source": [
    "### What to do about special chars, Caps, Spaces? We can take care of them during training \n",
    "### We have ara\"ñ\"a which when read as chars we get \\xb1 \\xc3 so lets rename it now"
   ]
  },
  {
   "cell_type": "code",
   "execution_count": 45,
   "metadata": {
    "scrolled": true
   },
   "outputs": [
    {
     "name": "stdout",
     "output_type": "stream",
     "text": [
      "Araña\n",
      "Arana\n"
     ]
    }
   ],
   "source": [
    "print heros[0][58]\n",
    "heros[0][58]='Arana'\n",
    "print heros[0][58]"
   ]
  },
  {
   "cell_type": "code",
   "execution_count": 46,
   "metadata": {},
   "outputs": [],
   "source": [
    "heros.to_csv(\"SuperHeroCorpus.txt\",sep='\\n', encoding='utf-8', index=False, header=None)"
   ]
  },
  {
   "cell_type": "markdown",
   "metadata": {},
   "source": [
    "### We now have a dataset of 1257 names.... It would be cool if we could visulaize the words and their \n",
    "\n",
    "### similarity, patterns? "
   ]
  },
  {
   "cell_type": "markdown",
   "metadata": {},
   "source": [
    "### Let's create our own Super Hero!"
   ]
  }
 ],
 "metadata": {
  "kernelspec": {
   "display_name": "Python 3",
   "language": "python",
   "name": "python3"
  },
  "language_info": {
   "codemirror_mode": {
    "name": "ipython",
    "version": 2
   },
   "file_extension": ".py",
   "mimetype": "text/x-python",
   "name": "python",
   "nbconvert_exporter": "python",
   "pygments_lexer": "ipython2",
   "version": "2.7.12"
  }
 },
 "nbformat": 4,
 "nbformat_minor": 2
}
